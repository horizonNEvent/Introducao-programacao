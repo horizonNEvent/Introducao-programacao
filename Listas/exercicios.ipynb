{
 "cells": [
  {
   "cell_type": "markdown",
   "id": "372f4d5c",
   "metadata": {},
   "source": [
    "Verificando itens na despensa"
   ]
  },
  {
   "cell_type": "code",
   "execution_count": null,
   "id": "4e3316fb",
   "metadata": {},
   "outputs": [
    {
     "ename": "",
     "evalue": "",
     "output_type": "error",
     "traceback": [
      "\u001b[1;31mThe Kernel crashed while executing code in the current cell or a previous cell. \n",
      "\u001b[1;31mPlease review the code in the cell(s) to identify a possible cause of the failure. \n",
      "\u001b[1;31mClick <a href='https://aka.ms/vscodeJupyterKernelCrash'>here</a> for more info. \n",
      "\u001b[1;31mView Jupyter <a href='command:jupyter.viewOutput'>log</a> for further details."
     ]
    }
   ],
   "source": [
    "despensa = [\"arroz\", \"feijão\", \"macarrão\", \"açúcar\", \"sal\", \"óleo\", \"farinha\", \"biscoito\", \"café\", \"leite\"]\n",
    "\n",
    "item = input(\"Digite o item que deseja verificar: \").strip().lower()\n",
    "\n",
    "if item in despensa:\n",
    "    print(f\"O item '{item}' está na despensa.\")\n",
    "else:\n",
    "    print(f\"O item '{item}' precisa ser comprado.\")"
   ]
  }
 ],
 "metadata": {
  "kernelspec": {
   "display_name": ".venv",
   "language": "python",
   "name": "python3"
  },
  "language_info": {
   "codemirror_mode": {
    "name": "ipython",
    "version": 3
   },
   "file_extension": ".py",
   "mimetype": "text/x-python",
   "name": "python",
   "nbconvert_exporter": "python",
   "pygments_lexer": "ipython3",
   "version": "3.12.4"
  }
 },
 "nbformat": 4,
 "nbformat_minor": 5
}
