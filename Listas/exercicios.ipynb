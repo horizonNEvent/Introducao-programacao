{
 "cells": [
  {
   "cell_type": "markdown",
   "id": "372f4d5c",
   "metadata": {},
   "source": [
    "Verificando itens na despensa"
   ]
  },
  {
   "cell_type": "code",
   "execution_count": null,
   "id": "4e3316fb",
   "metadata": {},
   "outputs": [],
   "source": [
    "despensa = [\"arroz\", \"feijão\", \"macarrão\", \"açúcar\", \"sal\", \"óleo\", \"farinha\", \"biscoito\", \"café\", \"leite\"]\n",
    "\n",
    "item = input(\"Digite o item que deseja verificar: \").strip().lower()\n",
    "\n",
    "if item in despensa:\n",
    "    print(f\"O item '{item}' está na despensa.\")\n",
    "else:\n",
    "    print(f\"O item '{item}' precisa ser comprado.\")"
   ]
  },
  {
   "cell_type": "markdown",
   "id": "e06c6313",
   "metadata": {},
   "source": [
    "6.21"
   ]
  },
  {
   "cell_type": "code",
   "execution_count": 6,
   "id": "e3bcd8e2",
   "metadata": {},
   "outputs": [
    {
     "name": "stdout",
     "output_type": "stream",
     "text": [
      "Valores comuns às duas listas: {8, 6}\n",
      "Valores que só existem na primeira: {1, 2}\n",
      "Valores que só existem na segunda: {9, 3}\n",
      "Elementos não repetidos nas duas listas: {1, 2, 3, 9}\n",
      "Primeira lista, sem os elementos repetidos na segunda: {1, 2}\n"
     ]
    }
   ],
   "source": [
    "L1 = [1, 2, 6, 8]\n",
    "L2 = [3, 6, 8, 9]\n",
    "\n",
    "conjunto_1 = set(L1)\n",
    "conjunto_2 = set(L2)\n",
    "\n",
    "print(\"Valores comuns às duas listas:\", conjunto_1 & conjunto_2)\n",
    "print(\"Valores que só existem na primeira:\", conjunto_1 - conjunto_2)\n",
    "print(\"Valores que só existem na segunda:\", conjunto_2 - conjunto_1)\n",
    "\n",
    "\n",
    "print(\"Elementos não repetidos nas duas listas:\", conjunto_1 ^ conjunto_2)\n",
    "\n",
    "print(\"Primeira lista, sem os elementos repetidos na segunda:\", conjunto_1 - conjunto_2)"
   ]
  }
 ],
 "metadata": {
  "kernelspec": {
   "display_name": ".venv",
   "language": "python",
   "name": "python3"
  },
  "language_info": {
   "codemirror_mode": {
    "name": "ipython",
    "version": 3
   },
   "file_extension": ".py",
   "mimetype": "text/x-python",
   "name": "python",
   "nbconvert_exporter": "python",
   "pygments_lexer": "ipython3",
   "version": "3.12.4"
  }
 },
 "nbformat": 4,
 "nbformat_minor": 5
}
