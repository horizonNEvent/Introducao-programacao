{
 "cells": [
  {
   "cell_type": "markdown",
   "id": "af0dbb66",
   "metadata": {},
   "source": [
    "Trabalhando com indices "
   ]
  },
  {
   "cell_type": "code",
   "execution_count": null,
   "id": "79f13a15",
   "metadata": {},
   "outputs": [],
   "source": [
    "numeros = [0,0,0,0,0,]\n",
    "\n",
    "x=0\n",
    "\n",
    "while x < 5:\n",
    "    numeros[x] = int(input(f\"Número {x+1}: \"))\n",
    "    x+=1\n",
    "while True:\n",
    "    escolhido = int(input(\"Que posição voce quer imprimir? (0 para sair)\"))\n",
    "    if escolhido == 0:\n",
    "        break\n",
    "    print(f\"Voce escolheu a posição {escolhido} e o valor é {numeros[escolhido-1]}\")\n"
   ]
  },
  {
   "cell_type": "markdown",
   "id": "c5f92dfa",
   "metadata": {},
   "source": [
    "Cópia e fatiamento de listas"
   ]
  },
  {
   "cell_type": "code",
   "execution_count": null,
   "id": "5098e1b3",
   "metadata": {},
   "outputs": [],
   "source": [
    "L = [1,2,3,4,5]\n",
    "V = L\n",
    "L"
   ]
  },
  {
   "cell_type": "code",
   "execution_count": null,
   "id": "d30cb84a",
   "metadata": {},
   "outputs": [],
   "source": [
    "V"
   ]
  },
  {
   "cell_type": "code",
   "execution_count": null,
   "id": "735ad2d7",
   "metadata": {},
   "outputs": [],
   "source": [
    "V[0] = 6\n",
    "V"
   ]
  },
  {
   "cell_type": "code",
   "execution_count": null,
   "id": "abede7b2",
   "metadata": {},
   "outputs": [],
   "source": [
    "L = [1,2,3,4,5]\n",
    "V = L[:]\n",
    "V[0] = 6\n",
    "print(V)\n",
    "print(L)"
   ]
  },
  {
   "cell_type": "code",
   "execution_count": null,
   "id": "7b81b2bf",
   "metadata": {},
   "outputs": [],
   "source": [
    "L = [1,2,3,4,5]\n",
    "L[0:5]\n"
   ]
  },
  {
   "cell_type": "code",
   "execution_count": null,
   "id": "84c1abef",
   "metadata": {},
   "outputs": [],
   "source": [
    "L[:5] # 0 a 4\n",
    "L[1:5] # 1 a 4\n",
    "L[:-1] # 0 a 3\n",
    "L[1:3] # 1 a 2\n",
    "L[1:4] # 1 a 3\n",
    "L[-2] # 3"
   ]
  },
  {
   "cell_type": "markdown",
   "id": "38299112",
   "metadata": {},
   "source": [
    "Tamanho de listas"
   ]
  },
  {
   "cell_type": "code",
   "execution_count": null,
   "id": "c13f5aad",
   "metadata": {},
   "outputs": [],
   "source": [
    "L = [12,9,5,6]\n",
    "len(L) # 3"
   ]
  },
  {
   "cell_type": "markdown",
   "id": "992d0873",
   "metadata": {},
   "source": [
    "Programa de repetição com tamanho fixo"
   ]
  },
  {
   "cell_type": "code",
   "execution_count": null,
   "id": "2eb03da5",
   "metadata": {},
   "outputs": [],
   "source": [
    "L = [1,2,3]\n",
    "x = 0\n",
    "while x < 3:\n",
    "    print(L[x])\n",
    "    x += 1"
   ]
  },
  {
   "cell_type": "markdown",
   "id": "4731025f",
   "metadata": {},
   "source": [
    "Ele pode ser reescrito dessa forma"
   ]
  },
  {
   "cell_type": "code",
   "execution_count": null,
   "id": "d259f61e",
   "metadata": {},
   "outputs": [],
   "source": [
    "L = [1,2,3,4]\n",
    "x = 0\n",
    "while x < len(L):\n",
    "    print(L[x])\n",
    "    x += 1"
   ]
  },
  {
   "cell_type": "code",
   "execution_count": null,
   "id": "dd666135",
   "metadata": {},
   "outputs": [],
   "source": [
    "L = []\n",
    "L.append(\"a\")\n",
    "L\n",
    "L.append(\"b\")\n",
    "L\n",
    "L.append(\"c\")\n",
    "L\n",
    "len(L)"
   ]
  },
  {
   "cell_type": "code",
   "execution_count": null,
   "id": "b4e32e3e",
   "metadata": {},
   "outputs": [],
   "source": [
    "L = []\n",
    "while True:\n",
    "    n = int(input(\"Digite um número (0 para sair): \"))\n",
    "    if n == 0:\n",
    "        break\n",
    "    L.append(n)\n",
    "x = 0\n",
    "while x < len(L):\n",
    "    print(L[x])\n",
    "    x += 1\n"
   ]
  },
  {
   "cell_type": "code",
   "execution_count": null,
   "id": "84a24e7b",
   "metadata": {},
   "outputs": [],
   "source": [
    "L = []\n",
    "L = L + [1]\n",
    "L\n",
    "L += [2]\n",
    "L\n",
    "L += [3,4,5]\n",
    "L"
   ]
  },
  {
   "cell_type": "code",
   "execution_count": null,
   "id": "de6e6f12",
   "metadata": {},
   "outputs": [],
   "source": [
    "L = [\"a\"]\n",
    "L.append(\"b\")\n",
    "L.extend([\"c\"])\n",
    "L\n",
    "L.append([\"d\",\"e\"])\n",
    "L"
   ]
  },
  {
   "cell_type": "code",
   "execution_count": null,
   "id": "a3767d99",
   "metadata": {},
   "outputs": [],
   "source": [
    "L = [\"a\"]\n",
    "L.append([\"b\"])\n",
    "L.append([\"c\",\"d\"])\n",
    "print(L)\n",
    "len(L)\n",
    "\n",
    "L[2][0]\n"
   ]
  },
  {
   "cell_type": "markdown",
   "id": "1162e491",
   "metadata": {},
   "source": [
    "Exercicio"
   ]
  },
  {
   "cell_type": "code",
   "execution_count": null,
   "id": "0309ecbc",
   "metadata": {},
   "outputs": [],
   "source": [
    "# Leitura da primeira lista\n",
    "lista1 = []\n",
    "n = int(input(\"Digite o número de elementos da primeira lista: \"))\n",
    "for _ in range(n):\n",
    "    elemento = input(\"Digite um elemento para a primeira lista: \")\n",
    "    lista1.append(elemento)\n",
    "\n",
    "# Leitura da segunda lista\n",
    "lista2 = []\n",
    "n = int(input(\"Digite o número de elementos da segunda lista: \"))\n",
    "for _ in range(n):\n",
    "    elemento = input(\"Digite um elemento para a segunda lista: \")\n",
    "    lista2.append(elemento)\n",
    "\n",
    "# Gerar a terceira lista com os elementos das duas primeiras\n",
    "lista3 = lista1 + lista2\n",
    "print(\"A terceira lista é:\", lista3)"
   ]
  },
  {
   "cell_type": "code",
   "execution_count": null,
   "id": "4254559b",
   "metadata": {},
   "outputs": [],
   "source": [
    "L = list(range(101))\n",
    "del L[1:99]\n",
    "L"
   ]
  },
  {
   "cell_type": "markdown",
   "id": "3b9e3e2b",
   "metadata": {},
   "source": [
    "Usando listas como filas"
   ]
  },
  {
   "cell_type": "code",
   "execution_count": null,
   "id": "91c913eb",
   "metadata": {},
   "outputs": [],
   "source": [
    "ultimo = 10\n",
    "fila = list(range(1, ultimo + 1))\n",
    "while True:\n",
    "    print(\"\\nExistem\", len(fila), \"pessoas na fila\")\n",
    "    print(\"Fila atual:\", fila)\n",
    "    print(\"Digite F para adicionar um cliente ao fim da fila\")\n",
    "    print(\"ou A para realizar o atendimento. S para sair\")\n",
    "    operacao = input(\"Operação: (F / A ou S): \").upper()\n",
    "    if operacao == \"A\":\n",
    "        if len(fila) > 0:\n",
    "            atendido = fila.pop(0)\n",
    "            print(f\"Cliente\", {atendido}, \"atendido\")\n",
    "        else:\n",
    "            print(\"Fila vazia\")\n",
    "    elif operacao == \"F\":\n",
    "        ultimo += 1\n",
    "        fila.append(ultimo)\n",
    "        print(f\"Cliente {ultimo} adicionado a fila\")\n",
    "    elif operacao == \"S\":\n",
    "        print(\"Saindo do programa\")\n",
    "        break\n",
    "    else:\n",
    "        print(\"Operação inválida\")\n",
    "        "
   ]
  },
  {
   "cell_type": "markdown",
   "id": "d61f8e50",
   "metadata": {},
   "source": [
    "Usando listas como pilhas"
   ]
  },
  {
   "cell_type": "code",
   "execution_count": null,
   "id": "ffc60f6f",
   "metadata": {},
   "outputs": [],
   "source": [
    "prato = 5\n",
    "pilha = list(range(1, prato + 1))\n",
    "while True:\n",
    "    print(\"\\nExistem\", len(pilha), \"pratos na pilha\")\n",
    "    print(\"Pilha atual:\", pilha)\n",
    "    print(\"Digite E para empilhar um prato\")\n",
    "    print(\"ou D para desempilhar um prato. S para sair\")\n",
    "    operacao = input(\"Operação: (E / D ou S): \").upper()\n",
    "    if operacao == \"D\":\n",
    "        if len(pilha) > 0:\n",
    "            lavado = pilha.pop()\n",
    "            print(f\"Prato\", {lavado}, \"desempilhado\")\n",
    "        else:\n",
    "            print(\"Pilha vazia\")\n",
    "    elif operacao == \"E\":\n",
    "        prato += 1\n",
    "        pilha.append(prato)\n",
    "        print(f\"Prato {prato} empilhado\")\n",
    "    elif operacao == \"S\":\n",
    "        print(\"Saindo do programa\")\n",
    "        break\n",
    "    else:\n",
    "        print(\"Operação inválida\")\n"
   ]
  },
  {
   "cell_type": "code",
   "execution_count": null,
   "id": "eff035fd",
   "metadata": {},
   "outputs": [],
   "source": [
    "expressao = input(\"Digite a expressão com parênteses: \")\n",
    "\n",
    "pilha = []\n",
    "balanceado = True  # Começamos assumindo que está balanceado\n",
    "\n",
    "for caractere in expressao:\n",
    "    if caractere == '(':\n",
    "        pilha.append(caractere)\n",
    "    elif caractere == ')':\n",
    "        if not pilha:\n",
    "            balanceado = False\n",
    "            break  # Sai do loop imediatamente, pois já está desbalanceado\n",
    "        pilha.pop()\n",
    "\n",
    "if not pilha and balanceado:\n",
    "    print(\"A expressão está balanceada.\")\n",
    "else:\n",
    "    print(\"A expressão não está balanceada.\")"
   ]
  },
  {
   "cell_type": "markdown",
   "id": "315fd3be",
   "metadata": {},
   "source": [
    "Pesquisa"
   ]
  },
  {
   "cell_type": "code",
   "execution_count": null,
   "id": "b246c899",
   "metadata": {},
   "outputs": [],
   "source": [
    "L = [15,7,27,39]\n",
    "p = int(input(\"Digite um número: \"))\n",
    "achou = False \n",
    "x = 0\n",
    "while x < len(L):\n",
    "    if L[x] == p:\n",
    "        achou = True\n",
    "        break\n",
    "    x += 1\n",
    "if achou:\n",
    "    print(f\"Elemento {p} encontrado na posição {x}\")\n",
    "else:\n",
    "    print(f\"Elemento {p} não encontrado na lista\")"
   ]
  },
  {
   "cell_type": "markdown",
   "id": "06819363",
   "metadata": {},
   "source": [
    "Exercicio 6.8"
   ]
  },
  {
   "cell_type": "code",
   "execution_count": null,
   "id": "6e6ead74",
   "metadata": {},
   "outputs": [],
   "source": [
    "L = [15, 7, 27, 39]\n",
    "p = int(input(\"Digite um número: \"))\n",
    "x = 0\n",
    "\n",
    "while x < len(L) and L[x] != p:\n",
    "    x += 1\n",
    "if x < len(L):\n",
    "    print(f\"Elemento {p} encontrado na posição {x}\")\n",
    "else:\n",
    "    print(f\"Elemento {p} não encontrado na lista\")"
   ]
  },
  {
   "cell_type": "markdown",
   "id": "11ed37a1",
   "metadata": {},
   "source": [
    "Exercico 6.9"
   ]
  },
  {
   "cell_type": "code",
   "execution_count": null,
   "id": "5811fb7d",
   "metadata": {},
   "outputs": [],
   "source": [
    "L = [15, 7, 27, 39]\n",
    "p = int(input(\"Digite o primeiro número (p): \"))\n",
    "v = int(input(\"Digite o segundo número (v): \"))\n",
    "x = 0\n",
    "\n",
    "while x < len(L) and L[x] != p and L[x] != v:\n",
    "    x += 1\n",
    "if x < len(L):\n",
    "    if L[x] == p:\n",
    "        print(f\"Elemento {p} encontrado na posição {x}\")\n",
    "    else:\n",
    "        print(f\"Elemento {v} encontrado na posição {x}\")\n",
    "else:\n",
    "    print(f\"Elemento {p} e {v} não encontrados na lista\")"
   ]
  },
  {
   "cell_type": "markdown",
   "id": "ba62b8ec",
   "metadata": {},
   "source": [
    "Usando for"
   ]
  },
  {
   "cell_type": "code",
   "execution_count": null,
   "id": "7fdb45a3",
   "metadata": {},
   "outputs": [],
   "source": [
    "L = [8,9,15]\n",
    "for e in L:\n",
    "    print(e)\n",
    "    "
   ]
  },
  {
   "cell_type": "markdown",
   "id": "c9348c77",
   "metadata": {},
   "source": [
    "RANGE"
   ]
  },
  {
   "cell_type": "code",
   "execution_count": null,
   "id": "3a34256c",
   "metadata": {},
   "outputs": [],
   "source": [
    "for v in range(10):\n",
    "    print(v)"
   ]
  },
  {
   "cell_type": "code",
   "execution_count": null,
   "id": "16f873bb",
   "metadata": {},
   "outputs": [],
   "source": [
    "for v in range(5, 7):\n",
    "    print(v)"
   ]
  },
  {
   "cell_type": "code",
   "execution_count": null,
   "id": "026dbb9d",
   "metadata": {},
   "outputs": [],
   "source": [
    "#This code snippet is using a for loop to iterate over a range of numbers starting from 3 up to (but not including) 33 with a step size of 3. During each iteration, it prints the current value of `t` followed by a space, all on the same line. Finally, it prints a newline character to move to the next line.\n",
    "for t in range(3, 33, 3):\n",
    "    print(t, end=\" \")\n"
   ]
  },
  {
   "cell_type": "markdown",
   "id": "f88d29c4",
   "metadata": {},
   "source": [
    "Transformação de range em uma lista"
   ]
  },
  {
   "cell_type": "code",
   "execution_count": null,
   "id": "221ca41d",
   "metadata": {},
   "outputs": [],
   "source": [
    "L = list(range(100, 1100, 50))\n",
    "print(L)\t"
   ]
  },
  {
   "cell_type": "code",
   "execution_count": null,
   "id": "05e3668e",
   "metadata": {},
   "outputs": [],
   "source": [
    "import matplotlib.pyplot as plt\n",
    "\n",
    "x = list(range(100, 1100, 50))\n",
    "y = [value * 2 for value in x]\n",
    "plt.plot(x, y)\n",
    "plt.title(\"Gráfico de exemplo\")\n",
    "plt.xlabel(\"Eixo X\")\n",
    "plt.ylabel(\"Eixo Y\")\n",
    "plt.show()"
   ]
  },
  {
   "cell_type": "code",
   "execution_count": null,
   "id": "0cea68ff",
   "metadata": {},
   "outputs": [],
   "source": [
    "lista = [10,20,30,40,50]\n",
    "print(20 in lista)\n",
    "print(80 in lista)"
   ]
  },
  {
   "cell_type": "code",
   "execution_count": null,
   "id": "3d141562",
   "metadata": {},
   "outputs": [],
   "source": [
    "lista = [50,30,90,10,20]\n",
    "lista.sort()\n",
    "print(lista)"
   ]
  },
  {
   "cell_type": "code",
   "execution_count": null,
   "id": "8785acd9",
   "metadata": {},
   "outputs": [],
   "source": [
    "tupla1 = (1, 2, 3)\n",
    "tupla2 = (4, 5, 6)\n",
    "tupla3 = tupla1 + tupla2\n",
    "print(tupla3)"
   ]
  },
  {
   "cell_type": "code",
   "execution_count": null,
   "id": "d1b3c25e",
   "metadata": {},
   "outputs": [],
   "source": [
    "tupla = (1, 2, 3)\n",
    "a, b, c = tupla\n",
    "print(a,b,c)"
   ]
  },
  {
   "cell_type": "markdown",
   "id": "4fd134e8",
   "metadata": {},
   "source": [
    "Enumerate"
   ]
  },
  {
   "cell_type": "code",
   "execution_count": null,
   "id": "8408a036",
   "metadata": {},
   "outputs": [],
   "source": [
    "L = [5,9,13]\n",
    "x = 0\n",
    "for e in L:\n",
    "    print(f\"Elemento {x} = {e}\")\n",
    "    x += 1"
   ]
  },
  {
   "cell_type": "code",
   "execution_count": null,
   "id": "7871bc6d",
   "metadata": {},
   "outputs": [],
   "source": [
    "L = [5,9,13]\n",
    "for x, e in enumerate(L):\n",
    "    print(f\"Elemento {x} = {e}\")"
   ]
  },
  {
   "cell_type": "code",
   "execution_count": null,
   "id": "ecc6fa98",
   "metadata": {},
   "outputs": [],
   "source": [
    "L = [5,9,13]\n",
    "for z in enumerate(L):\n",
    "    x,e = z\n",
    "    print(f\"Elemento {x} = {e}\")\n",
    "    print(z)"
   ]
  },
  {
   "cell_type": "markdown",
   "id": "fc292393",
   "metadata": {},
   "source": [
    "Operações com listas"
   ]
  },
  {
   "cell_type": "markdown",
   "id": "514abee9",
   "metadata": {},
   "source": [
    "Maior elemento"
   ]
  },
  {
   "cell_type": "code",
   "execution_count": null,
   "id": "9ddfcf9f",
   "metadata": {},
   "outputs": [],
   "source": [
    "L = [1, 15, 3,10]\n",
    "máximo = L[0]\n",
    "for e in L:\n",
    "    if e > máximo:\n",
    "        máximo = e\n",
    "    print(máximo)\n",
    "print(f\"O maior elemento é {máximo}\")"
   ]
  },
  {
   "cell_type": "markdown",
   "id": "7d42886f",
   "metadata": {},
   "source": [
    "Menor elemento"
   ]
  },
  {
   "cell_type": "code",
   "execution_count": null,
   "id": "a144e1d1",
   "metadata": {},
   "outputs": [],
   "source": [
    "L = [1, 15, 3, 10]\n",
    "minimo = L[0]  # Inicializa com o primeiro elemento da lista\n",
    "for e in L:\n",
    "    if e < minimo:  # Verifica se o elemento atual é menor que o mínimo\n",
    "        minimo = e\n",
    "    print(minimo)  # Opcional: imprime o mínimo a cada iteração\n",
    "print(f\"O menor elemento é {minimo}\")"
   ]
  },
  {
   "cell_type": "code",
   "execution_count": null,
   "id": "236c9db9",
   "metadata": {},
   "outputs": [],
   "source": [
    "valores = [9,8,7,12,0,13,21]\n",
    "pares = []\n",
    "impares = []\n",
    "\n",
    "for e in valores:\n",
    "    if e % 2 == 0:\n",
    "        pares.append(e)\n",
    "    else:\n",
    "        impares.append(e)\n",
    "print(\"Pares:\", pares)\n",
    "print(\"Ímpares:\", impares)"
   ]
  },
  {
   "cell_type": "markdown",
   "id": "823e8511",
   "metadata": {},
   "source": [
    "Salas de cinema"
   ]
  },
  {
   "cell_type": "code",
   "execution_count": null,
   "id": "9498d0c6",
   "metadata": {},
   "outputs": [],
   "source": [
    "lugares_vagos = [10, 2, 1, 3, 0]\n",
    "while True:\n",
    "    sala = int(input(\"Sala (0 sai): \"))\n",
    "    if sala == 0:\n",
    "        print(\"Fim\")\n",
    "        break\n",
    "    if sala > len(lugares_vagos) or sala < 1:\n",
    "        print(\"Sala inválida\")\n",
    "    elif lugares_vagos[sala - 1] == 0:\n",
    "        print(\"Desculpe, sala lotada!\")\n",
    "    else:\n",
    "        lugares = int(\n",
    "            input(\"Quantos lugares você deseja({lugares_vagos[sala - 1]} disponíveis): \")\n",
    "        )\n",
    "        if lugares > lugares_vagos[sala - 1]:\n",
    "            print(\"Esse número de lugares não está disponível.\")\n",
    "        elif lugares < 0:\n",
    "            print(\"Número inválido\")\n",
    "        else:\n",
    "            lugares_vagos[sala - 1] -= lugares\n",
    "            print(\"%d lugares vendidos\" % lugares)\n",
    "print(\"Utilização das salas\")\n",
    "for x, l in enumerate(lugares_vagos):\n",
    "    print(\"Sala %d - %d lugar(es) vazio(s)\" % (x + 1, l))"
   ]
  },
  {
   "cell_type": "code",
   "execution_count": null,
   "id": "d5b7b093",
   "metadata": {},
   "outputs": [],
   "source": [
    "compras = []\n",
    "while True:\n",
    "    produto = input(\"Produto:\")\n",
    "    if produto == \"fim\":\n",
    "        break\n",
    "    compras.append(produto)\n",
    "for p in compras:\n",
    "    print(p)"
   ]
  },
  {
   "cell_type": "code",
   "execution_count": null,
   "id": "6a15d5f9",
   "metadata": {},
   "outputs": [],
   "source": [
    "S = [\"maça\",\"peras\",\"kiwis\"]\n",
    "print(S[1][0])"
   ]
  },
  {
   "cell_type": "code",
   "execution_count": null,
   "id": "002fefb8",
   "metadata": {},
   "outputs": [],
   "source": [
    "S = [\"maça\",\"peras\",\"kiwis\"]\n",
    "for s in S:\n",
    "    for letra in s:\n",
    "        print(letra)"
   ]
  },
  {
   "cell_type": "code",
   "execution_count": null,
   "id": "4cbfd1df",
   "metadata": {},
   "outputs": [],
   "source": [
    "produto1 = [\"maça\",10,1.50]\n",
    "produto2 = [\"pera\",5,2.00]\n",
    "produto3 = [\"kiwi\",20,0.50]\n",
    "compras = [produto1,produto2,produto3]\n",
    "for e in compras:\n",
    "    print(f\"Produto: {e[0]}\")\n",
    "    print(f\"Quantidade: {e[1]}\")\n",
    "    print(f\"Preço: {e[2]}\")"
   ]
  },
  {
   "cell_type": "markdown",
   "id": "6e0275b7",
   "metadata": {},
   "source": [
    "Ordenação\n",
    "\n",
    "*Bubble Sort"
   ]
  },
  {
   "cell_type": "code",
   "execution_count": null,
   "id": "e3dafe86",
   "metadata": {},
   "outputs": [],
   "source": [
    "L = [7,4,3,12,8]\n",
    "fim = 5\n",
    "while fim > 1:\n",
    "    trocou = False\n",
    "    x = 0\n",
    "    while x < (fim - 1):\n",
    "        if L[x] > L[x + 1]:\n",
    "            L[x], L[x + 1] = L[x + 1], L[x]\n",
    "            trocou = True\n",
    "        x += 1\n",
    "    if not trocou:\n",
    "        break\n",
    "    fim -= 1\n",
    "for e in L:\n",
    "    print(e)"
   ]
  },
  {
   "cell_type": "markdown",
   "id": "2ae1a795",
   "metadata": {},
   "source": [
    "Dicionários"
   ]
  },
  {
   "cell_type": "code",
   "execution_count": null,
   "id": "5c0a61bc",
   "metadata": {},
   "outputs": [],
   "source": [
    "tabela = {\"alface\": 0.45, \n",
    "          \"tomate\": 0.50, \n",
    "          \"batata\": 0.30}\n",
    "# print(tabela[\"alface\"])\n",
    "# print(tabela)\n",
    "# tabela[\"tomate\"] = 0.60\n",
    "# print(tabela[\"tomate\"])\n",
    "# tabela[\"cenoura\"] = 0.40\n",
    "print(tabela)\n",
    "print(tabela.keys())\n",
    "print(tabela.values())"
   ]
  },
  {
   "cell_type": "code",
   "execution_count": 37,
   "id": "451e1f2c",
   "metadata": {},
   "outputs": [
    {
     "name": "stdout",
     "output_type": "stream",
     "text": [
      "Preço 0.80\n",
      "Preço 0.45\n"
     ]
    }
   ],
   "source": [
    "tabela = {\"alface\": 0.45, \n",
    "          \"tomate\": 0.50, \n",
    "          \"batata\": 0.30,\n",
    "          \"feijao\": 0.80}\n",
    "while True:\n",
    "    produto = input(\"Digite o nome do produto, fim para terminar\")\n",
    "    if produto == \"fim\":\n",
    "        break\n",
    "    if produto in tabela:\n",
    "        print(f\"Preço{tabela[produto]:5.2f}\")\n",
    "    else:\n",
    "        print(\"Produto não encontrado\")"
   ]
  },
  {
   "cell_type": "code",
   "execution_count": null,
   "id": "a5563ddf",
   "metadata": {},
   "outputs": [
    {
     "name": "stdout",
     "output_type": "stream",
     "text": [
      "{'tomate': [1000, 2.3], 'alface': [500, 0.45], 'batate': [2001, 1.2], 'feijao': [100, 1.5]}\n"
     ]
    }
   ],
   "source": [
    "estoque = {\"tomate\":[1000,2.30],\n",
    "           \"alface\":[500,0.45],\n",
    "           \"batate\":[2001,1.20],\n",
    "           \"feijao\":[100,1.50]}\n",
    "\n",
    "print(estoque)"
   ]
  },
  {
   "cell_type": "code",
   "execution_count": null,
   "id": "d8d45c01",
   "metadata": {},
   "outputs": [],
   "source": [
    "d = {}\n",
    "for letra in \"abracadabra\":\n",
    "    if letra in d:\n",
    "        d[letra] = d[letra] + 1\n",
    "    else:\n",
    "        d[letra] = 1\n",
    "print(d)"
   ]
  },
  {
   "cell_type": "markdown",
   "id": "de897347",
   "metadata": {},
   "source": [
    "Tuplas"
   ]
  },
  {
   "cell_type": "code",
   "execution_count": 53,
   "id": "ced1b507",
   "metadata": {},
   "outputs": [
    {
     "name": "stdout",
     "output_type": "stream",
     "text": [
      "a\n",
      "b\n",
      "c\n"
     ]
    }
   ],
   "source": [
    "tupla = (\"a\",\"b\",\"c\")\n",
    "len(tupla)\n",
    "\n",
    "for elemento in tupla:\n",
    "    print(elemento)"
   ]
  },
  {
   "cell_type": "code",
   "execution_count": 54,
   "id": "cf5c7dda",
   "metadata": {},
   "outputs": [
    {
     "data": {
      "text/plain": [
       "(1, 2, 3)"
      ]
     },
     "execution_count": 54,
     "metadata": {},
     "output_type": "execute_result"
    }
   ],
   "source": [
    "L = [1,2,3]\n",
    "T = tuple(L)\n",
    "T"
   ]
  },
  {
   "cell_type": "code",
   "execution_count": 59,
   "id": "898fc2d0",
   "metadata": {},
   "outputs": [
    {
     "data": {
      "text/plain": [
       "('l', 'u', 'p', 'i', 'n')"
      ]
     },
     "execution_count": 59,
     "metadata": {},
     "output_type": "execute_result"
    }
   ],
   "source": [
    "t = tuple(\"lupin\")\n",
    "t"
   ]
  },
  {
   "cell_type": "code",
   "execution_count": 69,
   "id": "4f3f56f2",
   "metadata": {},
   "outputs": [
    {
     "data": {
      "text/plain": [
       "[3, 4, 5]"
      ]
     },
     "execution_count": 69,
     "metadata": {},
     "output_type": "execute_result"
    }
   ],
   "source": [
    "a, b, *c = [1,2,3,4,5]\n",
    "c"
   ]
  },
  {
   "cell_type": "markdown",
   "id": "88d5e39a",
   "metadata": {},
   "source": [
    "Conjuntos(set)"
   ]
  },
  {
   "cell_type": "code",
   "execution_count": 100,
   "id": "571e9a6d",
   "metadata": {},
   "outputs": [
    {
     "data": {
      "text/plain": [
       "5"
      ]
     },
     "execution_count": 100,
     "metadata": {},
     "output_type": "execute_result"
    }
   ],
   "source": [
    "a = set()\n",
    "a.add(1)\n",
    "a.add(2)\n",
    "a.add(3)\n",
    "# type(a)\n",
    "a.add(0)\n",
    "a.add(-1)\n",
    "a\n",
    "-1 in a\n",
    "len(a)"
   ]
  },
  {
   "cell_type": "code",
   "execution_count": 99,
   "id": "7754d118",
   "metadata": {},
   "outputs": [
    {
     "data": {
      "text/plain": [
       "{2, 3}"
      ]
     },
     "execution_count": 99,
     "metadata": {},
     "output_type": "execute_result"
    }
   ],
   "source": [
    "b = set([2,3])\n",
    "b"
   ]
  },
  {
   "cell_type": "markdown",
   "id": "9133407f",
   "metadata": {},
   "source": [
    "União"
   ]
  },
  {
   "cell_type": "code",
   "execution_count": 104,
   "id": "a28a9a09",
   "metadata": {},
   "outputs": [
    {
     "data": {
      "text/plain": [
       "{-1, 0, 1, 2, 3, 4, 5, 6}"
      ]
     },
     "execution_count": 104,
     "metadata": {},
     "output_type": "execute_result"
    }
   ],
   "source": [
    "a = {0,1,2,3,-1}\n",
    "b = {2,3}\n",
    "c = set([4,5,6])\n",
    "a | b\n",
    "a | c"
   ]
  },
  {
   "cell_type": "code",
   "execution_count": 106,
   "id": "1c133ed1",
   "metadata": {},
   "outputs": [
    {
     "name": "stdout",
     "output_type": "stream",
     "text": [
      "{1, 2, 3, 4, 5, 6}\n"
     ]
    },
    {
     "data": {
      "text/plain": [
       "{1, 2, 3, 4, 5, 6}"
      ]
     },
     "execution_count": 106,
     "metadata": {},
     "output_type": "execute_result"
    }
   ],
   "source": [
    "A = {1,2,3,6}\n",
    "B = {2,4,5,6}\n",
    "print(A | B)\n",
    "\n",
    "A.union(B)"
   ]
  },
  {
   "cell_type": "markdown",
   "id": "dceb56f1",
   "metadata": {},
   "source": [
    "Intercção"
   ]
  },
  {
   "cell_type": "code",
   "execution_count": 108,
   "id": "73028281",
   "metadata": {},
   "outputs": [
    {
     "name": "stdout",
     "output_type": "stream",
     "text": [
      "{2, 3, 6}\n"
     ]
    },
    {
     "data": {
      "text/plain": [
       "{2, 3, 6}"
      ]
     },
     "execution_count": 108,
     "metadata": {},
     "output_type": "execute_result"
    }
   ],
   "source": [
    "A = {1,2,3,6}\n",
    "B = {2,3,5,6}\n",
    "print(A & B)\n",
    "A.intersection(B)"
   ]
  },
  {
   "cell_type": "markdown",
   "id": "df9b0bf5",
   "metadata": {},
   "source": [
    "Diferença "
   ]
  },
  {
   "cell_type": "code",
   "execution_count": 109,
   "id": "72d019aa",
   "metadata": {},
   "outputs": [
    {
     "data": {
      "text/plain": [
       "{-1, 0, 1}"
      ]
     },
     "execution_count": 109,
     "metadata": {},
     "output_type": "execute_result"
    }
   ],
   "source": [
    "A = {0,1,2,3,-1}\n",
    "B = {2,3}\n",
    "A - B"
   ]
  },
  {
   "cell_type": "markdown",
   "id": "8c704a1f",
   "metadata": {},
   "source": []
  }
 ],
 "metadata": {
  "kernelspec": {
   "display_name": ".venv",
   "language": "python",
   "name": "python3"
  },
  "language_info": {
   "codemirror_mode": {
    "name": "ipython",
    "version": 3
   },
   "file_extension": ".py",
   "mimetype": "text/x-python",
   "name": "python",
   "nbconvert_exporter": "python",
   "pygments_lexer": "ipython3",
   "version": "3.12.4"
  }
 },
 "nbformat": 4,
 "nbformat_minor": 5
}
