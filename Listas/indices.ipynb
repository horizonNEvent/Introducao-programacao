{
 "cells": [
  {
   "cell_type": "markdown",
   "id": "af0dbb66",
   "metadata": {},
   "source": [
    "Trabalhando com indices "
   ]
  },
  {
   "cell_type": "code",
   "execution_count": 4,
   "id": "79f13a15",
   "metadata": {},
   "outputs": [],
   "source": [
    "numeros = [0,0,0,0,0,]\n",
    "\n",
    "x=0\n",
    "\n",
    "while x < 5:\n",
    "    numeros[x] = int(input(f\"Número {x+1}: \"))\n",
    "    x+=1\n",
    "while True:\n",
    "    escolhido = int(input(\"Que posição voce quer imprimir? (0 para sair)\"))\n",
    "    if escolhido == 0:\n",
    "        break\n",
    "    print(f\"Voce escolheu a posição {escolhido} e o valor é {numeros[escolhido-1]}\")\n"
   ]
  },
  {
   "cell_type": "markdown",
   "id": "c5f92dfa",
   "metadata": {},
   "source": [
    "Cópia e fatiamento de listas"
   ]
  },
  {
   "cell_type": "code",
   "execution_count": 1,
   "id": "5098e1b3",
   "metadata": {},
   "outputs": [
    {
     "data": {
      "text/plain": [
       "[1, 2, 3, 4, 5]"
      ]
     },
     "execution_count": 1,
     "metadata": {},
     "output_type": "execute_result"
    }
   ],
   "source": [
    "L = [1,2,3,4,5]\n",
    "V = L\n",
    "L"
   ]
  },
  {
   "cell_type": "code",
   "execution_count": 6,
   "id": "d30cb84a",
   "metadata": {},
   "outputs": [
    {
     "data": {
      "text/plain": [
       "[6, 2, 3, 4, 5]"
      ]
     },
     "execution_count": 6,
     "metadata": {},
     "output_type": "execute_result"
    }
   ],
   "source": [
    "V"
   ]
  },
  {
   "cell_type": "code",
   "execution_count": 7,
   "id": "735ad2d7",
   "metadata": {},
   "outputs": [
    {
     "data": {
      "text/plain": [
       "[6, 2, 3, 4, 5]"
      ]
     },
     "execution_count": 7,
     "metadata": {},
     "output_type": "execute_result"
    }
   ],
   "source": [
    "V[0] = 6\n",
    "V"
   ]
  },
  {
   "cell_type": "code",
   "execution_count": 1,
   "id": "abede7b2",
   "metadata": {},
   "outputs": [
    {
     "name": "stdout",
     "output_type": "stream",
     "text": [
      "[6, 2, 3, 4, 5]\n",
      "[1, 2, 3, 4, 5]\n"
     ]
    }
   ],
   "source": [
    "L = [1,2,3,4,5]\n",
    "V = L[:]\n",
    "V[0] = 6\n",
    "print(V)\n",
    "print(L)"
   ]
  },
  {
   "cell_type": "code",
   "execution_count": 21,
   "id": "7b81b2bf",
   "metadata": {},
   "outputs": [
    {
     "data": {
      "text/plain": [
       "[1, 2, 3, 4, 5]"
      ]
     },
     "execution_count": 21,
     "metadata": {},
     "output_type": "execute_result"
    }
   ],
   "source": [
    "L = [1,2,3,4,5]\n",
    "L[0:5]\n"
   ]
  },
  {
   "cell_type": "code",
   "execution_count": 31,
   "id": "84c1abef",
   "metadata": {},
   "outputs": [
    {
     "data": {
      "text/plain": [
       "4"
      ]
     },
     "execution_count": 31,
     "metadata": {},
     "output_type": "execute_result"
    }
   ],
   "source": [
    "L[:5] # 0 a 4\n",
    "L[1:5] # 1 a 4\n",
    "L[:-1] # 0 a 3\n",
    "L[1:3] # 1 a 2\n",
    "L[1:4] # 1 a 3\n",
    "L[-2] # 3"
   ]
  },
  {
   "cell_type": "markdown",
   "id": "38299112",
   "metadata": {},
   "source": [
    "Tamanho de listas"
   ]
  },
  {
   "cell_type": "code",
   "execution_count": 1,
   "id": "c13f5aad",
   "metadata": {},
   "outputs": [
    {
     "data": {
      "text/plain": [
       "4"
      ]
     },
     "execution_count": 1,
     "metadata": {},
     "output_type": "execute_result"
    }
   ],
   "source": [
    "L = [12,9,5,6]\n",
    "len(L) # 3"
   ]
  },
  {
   "cell_type": "markdown",
   "id": "992d0873",
   "metadata": {},
   "source": [
    "Programa de repetição com tamanho fixo"
   ]
  },
  {
   "cell_type": "code",
   "execution_count": 2,
   "id": "2eb03da5",
   "metadata": {},
   "outputs": [
    {
     "name": "stdout",
     "output_type": "stream",
     "text": [
      "1\n",
      "2\n",
      "3\n"
     ]
    }
   ],
   "source": [
    "L = [1,2,3]\n",
    "x = 0\n",
    "while x < 3:\n",
    "    print(L[x])\n",
    "    x += 1"
   ]
  },
  {
   "cell_type": "markdown",
   "id": "4731025f",
   "metadata": {},
   "source": [
    "Ele pode ser reescrito dessa forma"
   ]
  },
  {
   "cell_type": "code",
   "execution_count": 7,
   "id": "d259f61e",
   "metadata": {},
   "outputs": [
    {
     "name": "stdout",
     "output_type": "stream",
     "text": [
      "1\n",
      "2\n",
      "3\n",
      "4\n"
     ]
    }
   ],
   "source": [
    "L = [1,2,3,4]\n",
    "x = 0\n",
    "while x < len(L):\n",
    "    print(L[x])\n",
    "    x += 1"
   ]
  },
  {
   "cell_type": "code",
   "execution_count": 12,
   "id": "dd666135",
   "metadata": {},
   "outputs": [
    {
     "data": {
      "text/plain": [
       "3"
      ]
     },
     "execution_count": 12,
     "metadata": {},
     "output_type": "execute_result"
    }
   ],
   "source": [
    "L = []\n",
    "L.append(\"a\")\n",
    "L\n",
    "L.append(\"b\")\n",
    "L\n",
    "L.append(\"c\")\n",
    "L\n",
    "len(L)"
   ]
  },
  {
   "cell_type": "code",
   "execution_count": 17,
   "id": "b4e32e3e",
   "metadata": {},
   "outputs": [
    {
     "name": "stdout",
     "output_type": "stream",
     "text": [
      "1\n",
      "2\n",
      "3\n"
     ]
    }
   ],
   "source": [
    "L = []\n",
    "while True:\n",
    "    n = int(input(\"Digite um número (0 para sair): \"))\n",
    "    if n == 0:\n",
    "        break\n",
    "    L.append(n)\n",
    "x = 0\n",
    "while x < len(L):\n",
    "    print(L[x])\n",
    "    x += 1\n"
   ]
  },
  {
   "cell_type": "code",
   "execution_count": 19,
   "id": "84a24e7b",
   "metadata": {},
   "outputs": [
    {
     "data": {
      "text/plain": [
       "[1, 2, 3, 4, 5]"
      ]
     },
     "execution_count": 19,
     "metadata": {},
     "output_type": "execute_result"
    }
   ],
   "source": [
    "L = []\n",
    "L = L + [1]\n",
    "L\n",
    "L += [2]\n",
    "L\n",
    "L += [3,4,5]\n",
    "L"
   ]
  },
  {
   "cell_type": "code",
   "execution_count": 22,
   "id": "de6e6f12",
   "metadata": {},
   "outputs": [
    {
     "data": {
      "text/plain": [
       "['a', 'b', 'c', ['d', 'e']]"
      ]
     },
     "execution_count": 22,
     "metadata": {},
     "output_type": "execute_result"
    }
   ],
   "source": [
    "L = [\"a\"]\n",
    "L.append(\"b\")\n",
    "L.extend([\"c\"])\n",
    "L\n",
    "L.append([\"d\",\"e\"])\n",
    "L"
   ]
  },
  {
   "cell_type": "code",
   "execution_count": 32,
   "id": "a3767d99",
   "metadata": {},
   "outputs": [
    {
     "name": "stdout",
     "output_type": "stream",
     "text": [
      "['a', ['b'], ['c', 'd']]\n"
     ]
    },
    {
     "data": {
      "text/plain": [
       "'c'"
      ]
     },
     "execution_count": 32,
     "metadata": {},
     "output_type": "execute_result"
    }
   ],
   "source": [
    "L = [\"a\"]\n",
    "L.append([\"b\"])\n",
    "L.append([\"c\",\"d\"])\n",
    "print(L)\n",
    "len(L)\n",
    "\n",
    "L[2][0]\n"
   ]
  },
  {
   "cell_type": "markdown",
   "id": "1162e491",
   "metadata": {},
   "source": [
    "Exercicio"
   ]
  },
  {
   "cell_type": "code",
   "execution_count": 35,
   "id": "0309ecbc",
   "metadata": {},
   "outputs": [
    {
     "name": "stdout",
     "output_type": "stream",
     "text": [
      "A terceira lista é: ['1', '2', '3', '4', '5', '6']\n"
     ]
    }
   ],
   "source": [
    "# Leitura da primeira lista\n",
    "lista1 = []\n",
    "n = int(input(\"Digite o número de elementos da primeira lista: \"))\n",
    "for _ in range(n):\n",
    "    elemento = input(\"Digite um elemento para a primeira lista: \")\n",
    "    lista1.append(elemento)\n",
    "\n",
    "# Leitura da segunda lista\n",
    "lista2 = []\n",
    "n = int(input(\"Digite o número de elementos da segunda lista: \"))\n",
    "for _ in range(n):\n",
    "    elemento = input(\"Digite um elemento para a segunda lista: \")\n",
    "    lista2.append(elemento)\n",
    "\n",
    "# Gerar a terceira lista com os elementos das duas primeiras\n",
    "lista3 = lista1 + lista2\n",
    "print(\"A terceira lista é:\", lista3)"
   ]
  },
  {
   "cell_type": "code",
   "execution_count": 2,
   "id": "4254559b",
   "metadata": {},
   "outputs": [
    {
     "data": {
      "text/plain": [
       "[0, 99, 100]"
      ]
     },
     "execution_count": 2,
     "metadata": {},
     "output_type": "execute_result"
    }
   ],
   "source": [
    "L = list(range(101))\n",
    "del L[1:99]\n",
    "L"
   ]
  },
  {
   "cell_type": "markdown",
   "id": "3b9e3e2b",
   "metadata": {},
   "source": [
    "Usando listas como filas"
   ]
  },
  {
   "cell_type": "code",
   "execution_count": 9,
   "id": "91c913eb",
   "metadata": {},
   "outputs": [
    {
     "name": "stdout",
     "output_type": "stream",
     "text": [
      "\n",
      "Existem 10 pessoas na fila\n",
      "Fila atual: [1, 2, 3, 4, 5, 6, 7, 8, 9, 10]\n",
      "Digite F para adicionar um cliente ao fim da fila\n",
      "ou A para realizar o atendimento. S para sair\n",
      "Saindo do programa\n"
     ]
    }
   ],
   "source": [
    "ultimo = 10\n",
    "fila = list(range(1, ultimo + 1))\n",
    "while True:\n",
    "    print(\"\\nExistem\", len(fila), \"pessoas na fila\")\n",
    "    print(\"Fila atual:\", fila)\n",
    "    print(\"Digite F para adicionar um cliente ao fim da fila\")\n",
    "    print(\"ou A para realizar o atendimento. S para sair\")\n",
    "    operacao = input(\"Operação: (F / A ou S): \").upper()\n",
    "    if operacao == \"A\":\n",
    "        if len(fila) > 0:\n",
    "            atendido = fila.pop(0)\n",
    "            print(f\"Cliente\", {atendido}, \"atendido\")\n",
    "        else:\n",
    "            print(\"Fila vazia\")\n",
    "    elif operacao == \"F\":\n",
    "        ultimo += 1\n",
    "        fila.append(ultimo)\n",
    "        print(f\"Cliente {ultimo} adicionado a fila\")\n",
    "    elif operacao == \"S\":\n",
    "        print(\"Saindo do programa\")\n",
    "        break\n",
    "    else:\n",
    "        print(\"Operação inválida\")\n",
    "        "
   ]
  },
  {
   "cell_type": "markdown",
   "id": "d61f8e50",
   "metadata": {},
   "source": [
    "Usando listas como pilhas"
   ]
  },
  {
   "cell_type": "code",
   "execution_count": null,
   "id": "ffc60f6f",
   "metadata": {},
   "outputs": [],
   "source": [
    "prato = 5\n",
    "pilha = list(range(1, prato + 1))\n",
    "while True:\n",
    "    print(\"\\nExistem\", len(pilha), \"pratos na pilha\")\n",
    "    print(\"Pilha atual:\", pilha)\n",
    "    print(\"Digite E para empilhar um prato\")\n",
    "    print(\"ou D para desempilhar um prato. S para sair\")\n",
    "    operacao = input(\"Operação: (E / D ou S): \").upper()\n",
    "    if operacao == \"D\":\n",
    "        if len(pilha) > 0:\n",
    "            lavado = pilha.pop()\n",
    "            print(f\"Prato\", {lavado}, \"desempilhado\")\n",
    "        else:\n",
    "            print(\"Pilha vazia\")\n",
    "    elif operacao == \"E\":\n",
    "        prato += 1\n",
    "        pilha.append(prato)\n",
    "        print(f\"Prato {prato} empilhado\")\n",
    "    elif operacao == \"S\":\n",
    "        print(\"Saindo do programa\")\n",
    "        break\n",
    "    else:\n",
    "        print(\"Operação inválida\")\n"
   ]
  },
  {
   "cell_type": "code",
   "execution_count": 13,
   "id": "eff035fd",
   "metadata": {},
   "outputs": [
    {
     "name": "stdout",
     "output_type": "stream",
     "text": [
      "A expressão não está balanceada.\n"
     ]
    }
   ],
   "source": [
    "expressao = input(\"Digite a expressão com parênteses: \")\n",
    "\n",
    "pilha = []\n",
    "balanceado = True  # Começamos assumindo que está balanceado\n",
    "\n",
    "for caractere in expressao:\n",
    "    if caractere == '(':\n",
    "        pilha.append(caractere)\n",
    "    elif caractere == ')':\n",
    "        if not pilha:\n",
    "            balanceado = False\n",
    "            break  # Sai do loop imediatamente, pois já está desbalanceado\n",
    "        pilha.pop()\n",
    "\n",
    "if not pilha and balanceado:\n",
    "    print(\"A expressão está balanceada.\")\n",
    "else:\n",
    "    print(\"A expressão não está balanceada.\")"
   ]
  },
  {
   "cell_type": "markdown",
   "id": "315fd3be",
   "metadata": {},
   "source": [
    "Pesquisa"
   ]
  },
  {
   "cell_type": "code",
   "execution_count": null,
   "id": "b246c899",
   "metadata": {},
   "outputs": [],
   "source": [
    "L = [15,7,27,39]\n",
    "p = int(input(\"Digite um número: \"))\n",
    "achou = false \n",
    "x = 0"
   ]
  }
 ],
 "metadata": {
  "kernelspec": {
   "display_name": "Python 3",
   "language": "python",
   "name": "python3"
  },
  "language_info": {
   "codemirror_mode": {
    "name": "ipython",
    "version": 3
   },
   "file_extension": ".py",
   "mimetype": "text/x-python",
   "name": "python",
   "nbconvert_exporter": "python",
   "pygments_lexer": "ipython3",
   "version": "3.12.10"
  }
 },
 "nbformat": 4,
 "nbformat_minor": 5
}
