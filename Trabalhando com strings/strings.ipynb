{
 "cells": [
  {
   "cell_type": "code",
   "execution_count": 4,
   "id": "aff0c4df",
   "metadata": {},
   "outputs": [
    {
     "name": "stdout",
     "output_type": "stream",
     "text": [
      "['a', 'l', 'ô', ' ', 'M', 'u', 'n', 'd', 'o']\n",
      "<class 'str'>\n"
     ]
    }
   ],
   "source": [
    "L = list(\"Alô Mundo\")\n",
    "L[0] = \"a\"\n",
    "print(L)\n",
    "s = \"\".join(L)\n",
    "print(type(s))"
   ]
  },
  {
   "cell_type": "code",
   "execution_count": null,
   "id": "c3649dfe",
   "metadata": {},
   "outputs": [
    {
     "data": {
      "text/plain": [
       "True"
      ]
     },
     "execution_count": 10,
     "metadata": {},
     "output_type": "execute_result"
    }
   ],
   "source": [
    "nome = \"João da Silva\"\n",
    "nome.startswith(\"João\") #nome começa com Jõao"
   ]
  },
  {
   "cell_type": "code",
   "execution_count": null,
   "id": "95da2058",
   "metadata": {},
   "outputs": [
    {
     "data": {
      "text/plain": [
       "False"
      ]
     },
     "execution_count": 11,
     "metadata": {},
     "output_type": "execute_result"
    }
   ],
   "source": [
    "nome.startswith(\"joão\") "
   ]
  },
  {
   "cell_type": "code",
   "execution_count": null,
   "id": "f5f9ebd4",
   "metadata": {},
   "outputs": [
    {
     "data": {
      "text/plain": [
       "True"
      ]
     },
     "execution_count": 12,
     "metadata": {},
     "output_type": "execute_result"
    }
   ],
   "source": [
    "nome.endswith(\"Silva\") #nome terminar com Silva"
   ]
  },
  {
   "cell_type": "code",
   "execution_count": 14,
   "id": "310ae5aa",
   "metadata": {},
   "outputs": [
    {
     "data": {
      "text/plain": [
       "'o rato roeu a roupa do rei de roma'"
      ]
     },
     "execution_count": 14,
     "metadata": {},
     "output_type": "execute_result"
    }
   ],
   "source": [
    "s = \"O rato roeu a roupa do rei de Roma\"\n",
    "s.lower()"
   ]
  },
  {
   "cell_type": "code",
   "execution_count": 15,
   "id": "3a38c885",
   "metadata": {},
   "outputs": [
    {
     "data": {
      "text/plain": [
       "'O RATO ROEU A ROUPA DO REI DE ROMA'"
      ]
     },
     "execution_count": 15,
     "metadata": {},
     "output_type": "execute_result"
    }
   ],
   "source": [
    "s.upper()"
   ]
  },
  {
   "cell_type": "code",
   "execution_count": 17,
   "id": "d904e10e",
   "metadata": {},
   "outputs": [
    {
     "data": {
      "text/plain": [
       "True"
      ]
     },
     "execution_count": 17,
     "metadata": {},
     "output_type": "execute_result"
    }
   ],
   "source": [
    "s = \"Maria Amélia Souza\"\n",
    "\"Amélia\" in s"
   ]
  },
  {
   "cell_type": "code",
   "execution_count": 18,
   "id": "dcd15bf5",
   "metadata": {},
   "outputs": [
    {
     "data": {
      "text/plain": [
       "True"
      ]
     },
     "execution_count": 18,
     "metadata": {},
     "output_type": "execute_result"
    }
   ],
   "source": [
    "\"Maria\" in s"
   ]
  },
  {
   "cell_type": "code",
   "execution_count": 22,
   "id": "8c439a69",
   "metadata": {},
   "outputs": [
    {
     "data": {
      "text/plain": [
       "3"
      ]
     },
     "execution_count": 22,
     "metadata": {},
     "output_type": "execute_result"
    }
   ],
   "source": [
    "t = \"um tigre, dois tigres, três tigres\"\n",
    "t.count(\"tigre\")"
   ]
  },
  {
   "cell_type": "code",
   "execution_count": 27,
   "id": "2098c835",
   "metadata": {},
   "outputs": [
    {
     "name": "stdout",
     "output_type": "stream",
     "text": [
      "3\n"
     ]
    }
   ],
   "source": [
    "t = \"um tigre, dois tigres, três tigres\"\n",
    "palavras = t.split()\n",
    "contador = 0\n",
    "for palavra in palavras:\n",
    "    if palavra.strip(\",\") == \"tigre\" or palavra.strip(\",\") == \"tigres\":\n",
    "        contador += 1\n",
    "print(contador)  # Saída: 3"
   ]
  },
  {
   "cell_type": "code",
   "execution_count": 28,
   "id": "9003de03",
   "metadata": {},
   "outputs": [
    {
     "data": {
      "text/plain": [
       "4"
      ]
     },
     "execution_count": 28,
     "metadata": {},
     "output_type": "execute_result"
    }
   ],
   "source": [
    "s = \"Alô mundo\"\n",
    "s.find(\"mun\")"
   ]
  },
  {
   "cell_type": "code",
   "execution_count": 35,
   "id": "badf318c",
   "metadata": {},
   "outputs": [
    {
     "data": {
      "text/plain": [
       "7"
      ]
     },
     "execution_count": 35,
     "metadata": {},
     "output_type": "execute_result"
    }
   ],
   "source": [
    "s = \"Um dia de sol\"\n",
    "s.rfind(\"d\")"
   ]
  },
  {
   "cell_type": "code",
   "execution_count": 36,
   "id": "08e2c724",
   "metadata": {},
   "outputs": [
    {
     "data": {
      "text/plain": [
       "'de sol'"
      ]
     },
     "execution_count": 36,
     "metadata": {},
     "output_type": "execute_result"
    }
   ],
   "source": [
    "s[7:]"
   ]
  },
  {
   "cell_type": "code",
   "execution_count": 37,
   "id": "c8ec8817",
   "metadata": {},
   "outputs": [
    {
     "data": {
      "text/plain": [
       "3"
      ]
     },
     "execution_count": 37,
     "metadata": {},
     "output_type": "execute_result"
    }
   ],
   "source": [
    "s.find(\"d\")"
   ]
  },
  {
   "cell_type": "code",
   "execution_count": 38,
   "id": "b7616c26",
   "metadata": {},
   "outputs": [
    {
     "data": {
      "text/plain": [
       "'dia de sol'"
      ]
     },
     "execution_count": 38,
     "metadata": {},
     "output_type": "execute_result"
    }
   ],
   "source": [
    "s[3:]"
   ]
  }
 ],
 "metadata": {
  "kernelspec": {
   "display_name": ".venv",
   "language": "python",
   "name": "python3"
  },
  "language_info": {
   "codemirror_mode": {
    "name": "ipython",
    "version": 3
   },
   "file_extension": ".py",
   "mimetype": "text/x-python",
   "name": "python",
   "nbconvert_exporter": "python",
   "pygments_lexer": "ipython3",
   "version": "3.12.4"
  }
 },
 "nbformat": 4,
 "nbformat_minor": 5
}
