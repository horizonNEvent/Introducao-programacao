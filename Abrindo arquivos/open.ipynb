{
 "cells": [
  {
   "cell_type": "markdown",
   "id": "8f3583f8",
   "metadata": {},
   "source": [
    "Exemplos com TXT"
   ]
  },
  {
   "cell_type": "code",
   "execution_count": 27,
   "id": "2783eac7",
   "metadata": {},
   "outputs": [],
   "source": [
    "arquivo = open('teste.txt', 'a')\n",
    "arquivo.write('Teste de escrita em arquivo\\n')\n",
    "arquivo.close()"
   ]
  },
  {
   "cell_type": "code",
   "execution_count": 25,
   "id": "a66e84f2",
   "metadata": {},
   "outputs": [],
   "source": [
    "arquivo = open('teste.txt','w')\n",
    "arquivo.close()"
   ]
  },
  {
   "cell_type": "code",
   "execution_count": 28,
   "id": "d8d2551d",
   "metadata": {},
   "outputs": [],
   "source": [
    "arquivo = open('teste.txt', 'w')\n",
    "for linha in range(1,101):\n",
    "    arquivo.write(f'Linha {linha}\\n')\n",
    "arquivo.close()"
   ]
  },
  {
   "cell_type": "markdown",
   "id": "8b05a347",
   "metadata": {},
   "source": [
    "Caso o arquivo nao exista , ele irá criar um novo"
   ]
  },
  {
   "cell_type": "code",
   "execution_count": 26,
   "id": "e1bcc902",
   "metadata": {},
   "outputs": [],
   "source": [
    "arquivo = open('numeros.txt', 'w')\n",
    "for linha in range(1,101):\n",
    "    arquivo.write(f'Linha {linha}\\n')\n",
    "arquivo.close()"
   ]
  },
  {
   "cell_type": "code",
   "execution_count": null,
   "id": "aefde05f",
   "metadata": {},
   "outputs": [],
   "source": [
    "arquivo = open('numeros.txt', 'r')\n",
    "for linha in arquivo:\n",
    "    print(linha, end='')\n",
    "arquivo.close()"
   ]
  },
  {
   "cell_type": "code",
   "execution_count": null,
   "id": "373752e8",
   "metadata": {},
   "outputs": [],
   "source": [
    "with open('numeros.txt', 'r') as arquivo:\n",
    "    linhas = arquivo.readlines()\n",
    "    for linha in linhas:\n",
    "        print(linha)"
   ]
  },
  {
   "cell_type": "code",
   "execution_count": null,
   "id": "cf2a7550",
   "metadata": {},
   "outputs": [],
   "source": [
    "# Escrita em modo binário\n",
    "with open('teste_binario.bin', 'wb') as arquivo_binario:\n",
    "    dados = bytearray([65, 66, 67, 68])  # Exemplo de dados binários (bytes representando ABCD)\n",
    "    arquivo_binario.write(dados)\n",
    "\n",
    "# Leitura em modo binário\n",
    "with open('teste_binario.bin', 'rb') as arquivo_binario:\n",
    "    dados_lidos = arquivo_binario.read()\n",
    "    print(dados_lidos)  # Imprime: b'ABCD'"
   ]
  },
  {
   "cell_type": "code",
   "execution_count": 32,
   "id": "6432db91",
   "metadata": {},
   "outputs": [
    {
     "name": "stdout",
     "output_type": "stream",
     "text": [
      "Primeira linha: Linha 1\n",
      "Conteúdo restante:\n",
      " 2\n",
      "Linha 3\n",
      "\n"
     ]
    }
   ],
   "source": [
    "# Cria um arquivo de exemplo\n",
    "with open('teste_r+.txt', 'w') as f:\n",
    "    f.write('Linha 1\\nLinha 2\\nLinha 3\\n')\n",
    "\n",
    "# Abre o arquivo para leitura e escrita\n",
    "with open('teste_r+.txt', 'r+') as arquivo:\n",
    "    # Lê a primeira linha\n",
    "    primeira_linha = arquivo.readline()\n",
    "    print(f'Primeira linha: {primeira_linha.strip()}')\n",
    "\n",
    "    # Volta para o início do arquivo\n",
    "    arquivo.seek(0)\n",
    "\n",
    "    # Escreve algo no início (sobrescreve)\n",
    "    arquivo.write('Nova linha 1\\n')\n",
    "\n",
    "    # Lê todo o conteúdo restante\n",
    "    conteudo_restante = arquivo.read()\n",
    "    print(f'Conteúdo restante:\\n{conteudo_restante}')"
   ]
  },
  {
   "cell_type": "markdown",
   "id": "83deb053",
   "metadata": {},
   "source": [
    "Exemplos com Excel"
   ]
  },
  {
   "cell_type": "code",
   "execution_count": null,
   "id": "bbf9677d",
   "metadata": {},
   "outputs": [],
   "source": [
    "import openpyxl\n",
    "\n",
    "workbook = openpyxl.Workbook()\n",
    "sheet = workbook.active\n",
    "sheet['A1'] = 'Nome'        \n",
    "sheet['B1'] = 'Idade'\n",
    "sheet['A2'] = 'Alice'\n",
    "sheet['B2'] = 30\n",
    "sheet['A3'] = 'Bob'\n",
    "sheet['B3'] = 25\n",
    "\n",
    "workbook.save('exemplo.xlsx')\n"
   ]
  },
  {
   "cell_type": "markdown",
   "id": "5b016e3c",
   "metadata": {},
   "source": [
    "# Abre a planilha existente"
   ]
  },
  {
   "cell_type": "code",
   "execution_count": 3,
   "id": "ec90ff06",
   "metadata": {},
   "outputs": [
    {
     "name": "stdout",
     "output_type": "stream",
     "text": [
      "('Nome', 'Idade')\n",
      "('Alice', 30)\n",
      "('Bob', 25)\n"
     ]
    }
   ],
   "source": [
    "workbook = openpyxl.load_workbook('exemplo.xlsx')\n",
    "sheet = workbook.active\n",
    "for row in sheet.iter_rows(values_only=True):\n",
    "    print(row)"
   ]
  }
 ],
 "metadata": {
  "kernelspec": {
   "display_name": ".venv",
   "language": "python",
   "name": "python3"
  },
  "language_info": {
   "codemirror_mode": {
    "name": "ipython",
    "version": 3
   },
   "file_extension": ".py",
   "mimetype": "text/x-python",
   "name": "python",
   "nbconvert_exporter": "python",
   "pygments_lexer": "ipython3",
   "version": "3.12.4"
  }
 },
 "nbformat": 4,
 "nbformat_minor": 5
}
